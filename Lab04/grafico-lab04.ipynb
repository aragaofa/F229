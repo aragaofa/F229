{
 "metadata": {
  "name": "",
  "signature": "sha256:2b51fca531fa89722449cb2f198c72f75a5c19c2f921dcb60916f484ab06f05b"
 },
 "nbformat": 3,
 "nbformat_minor": 0,
 "worksheets": [
  {
   "cells": [
    {
     "cell_type": "code",
     "collapsed": false,
     "input": [
      "%matplotlib inline"
     ],
     "language": "python",
     "metadata": {},
     "outputs": []
    },
    {
     "cell_type": "code",
     "collapsed": false,
     "input": [
      "from pylab import *"
     ],
     "language": "python",
     "metadata": {},
     "outputs": []
    },
    {
     "cell_type": "code",
     "collapsed": false,
     "input": [
      "import numpy as np"
     ],
     "language": "python",
     "metadata": {},
     "outputs": []
    },
    {
     "cell_type": "code",
     "collapsed": false,
     "input": [
      "import matplotlib.ticker as tkr"
     ],
     "language": "python",
     "metadata": {},
     "outputs": []
    },
    {
     "cell_type": "code",
     "collapsed": false,
     "input": [
      "import matplotlib.pyplot as plt"
     ],
     "language": "python",
     "metadata": {},
     "outputs": []
    },
    {
     "cell_type": "code",
     "collapsed": false,
     "input": [
      "def func(x, pos): # changes format to dot to comma\n",
      "    s = str(x)\n",
      "    ind = s.index('.')\n",
      "    return s[:ind] + ',' + s[ind+1:] + '0'"
     ],
     "language": "python",
     "metadata": {},
     "outputs": []
    },
    {
     "cell_type": "code",
     "collapsed": false,
     "input": [
      "ax = plt.subplot()\n",
      "\n",
      "x = np.arange(0, 1, 0.001)\n",
      "\n",
      "pX = [0.145, 0.096, 0.057, 0.097, 0.017]\n",
      "pY = [0.068, 0.048, 0.030, 0.049, 0.010]\n",
      "\n",
      "errorX = [0, 0, 0, 0, 0]\n",
      "errorY = [0.0003, 0.0003, 0.0003, 0.0003, 0.0003]\n",
      "\n",
      "xFormatter = FormatStrFormatter('%.3f')\n",
      "yFormatter = FormatStrFormatter('%.3f')\n",
      "\n",
      "cFormatter = tkr.FuncFormatter(func)\n",
      "\n",
      "line, = plt.plot(x, 0.459 * x + 3.056 * 10**(-3), label=r\"$y$ $=$ $0,459x + 3,056 \\cdot 10^{-3}$\", color=\"green\")\n",
      "\n",
      "ax.legend(loc=2) # upper left corner\n",
      "ax.set_xlabel(r'$\\frac{1}{t^2}$ $(\\frac{1}{s^2})$', fontsize=18)\n",
      "ax.set_ylabel(r'$\\Delta m$ $(Kg)$', fontsize=12)\n",
      "\n",
      "plt.plot(pX, pY, 'bo', markersize = 3)\n",
      "\n",
      "plt.errorbar(pX, pY, yerr=0.0003, xerr=0, fmt='none', capsize=1)\n",
      "\n",
      "plt.xlim(0,0.160)\n",
      "plt.ylim(0,0.080)\n",
      "\n",
      "plt.xticks(np.arange(0.04, 0.161, 0.04))\n",
      "plt.yticks(np.arange(0.02, 0.081, 0.02))\n",
      "\n",
      "ax.xaxis.set_major_formatter(xFormatter)\n",
      "ax.yaxis.set_major_formatter(yFormatter)\n",
      "\n",
      "ax.xaxis.set_major_formatter(cFormatter)\n",
      "ax.yaxis.set_major_formatter(cFormatter)\n",
      "\n",
      "plt.show()"
     ],
     "language": "python",
     "metadata": {},
     "outputs": []
    }
   ],
   "metadata": {}
  }
 ]
}