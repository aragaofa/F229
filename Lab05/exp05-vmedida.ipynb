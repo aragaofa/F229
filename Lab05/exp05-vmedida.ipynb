{
 "metadata": {
  "name": "",
  "signature": "sha256:9e1bca1e083e23be8303491da48111d03939ee268f83ae28c559e7a5add0e24d"
 },
 "nbformat": 3,
 "nbformat_minor": 0,
 "worksheets": [
  {
   "cells": [
    {
     "cell_type": "code",
     "collapsed": false,
     "input": [
      "%matplotlib inline"
     ],
     "language": "python",
     "metadata": {},
     "outputs": [],
     "prompt_number": 1
    },
    {
     "cell_type": "code",
     "collapsed": false,
     "input": [
      "from pylab import *"
     ],
     "language": "python",
     "metadata": {},
     "outputs": [],
     "prompt_number": 2
    },
    {
     "cell_type": "code",
     "collapsed": false,
     "input": [
      "import matplotlib.ticker as tkr"
     ],
     "language": "python",
     "metadata": {},
     "outputs": [],
     "prompt_number": 3
    },
    {
     "cell_type": "code",
     "collapsed": false,
     "input": [
      "import matplotlib.pyplot as plt"
     ],
     "language": "python",
     "metadata": {},
     "outputs": [],
     "prompt_number": 4
    },
    {
     "cell_type": "code",
     "collapsed": false,
     "input": [
      "def func(x, pos): # changes format to dot to comma\n",
      "    s = str(x)\n",
      "    ind = 1\n",
      "    return s[:ind] + ',' + s[ind+1:] + '0'"
     ],
     "language": "python",
     "metadata": {},
     "outputs": [],
     "prompt_number": 95
    },
    {
     "cell_type": "code",
     "collapsed": false,
     "input": [
      "def funcX(x, pos): # changes format to dot to comma\n",
      "    s = str(x)\n",
      "    return s[0]"
     ],
     "language": "python",
     "metadata": {},
     "outputs": [],
     "prompt_number": 106
    },
    {
     "cell_type": "code",
     "collapsed": false,
     "input": [
      "fig = plt.figure()\n",
      "ax = fig.gca()\n",
      "\n",
      "x = np.arange(0, 0.0001, 0.0000001)\n",
      "\n",
      "pX = [0.0000010, 0.0000016, 0.0000023, 0.0000031, 0.0000040]\n",
      "pY = [0.02, 0.03, 0.0001, 0.05, 0.06]\n",
      "\n",
      "errorX = [0, 0, 0, 0, 0]\n",
      "errorY = [0.00008, 0.00007, 0.00009, 0.00039, 0.00041]\n",
      "\n",
      "cFormatter = tkr.FuncFormatter(func)\n",
      "cFormatter2 = tkr.FuncFormatter(funcX)\n",
      "\n",
      "line, = plt.plot(x, 15275.0255 * x + 0.00221184, label=r\"$y$ $=$ $15,28 \\cdot 10^{3}x + 2,2 \\cdot 10^{-3}$\", color=\"green\")\n",
      "\n",
      "plt.legend(loc=2) # upper left corner\n",
      "plt.xlabel('$10^{-6} \\cdot$ $r^2$ ($m^2$)', fontsize=14)\n",
      "plt.ylabel(r'$v^{\\prime}$ $(\\frac{m}{s})$', fontsize=18)\n",
      "\n",
      "plt.plot(pX, pY, 'bo', markersize = 3)\n",
      "\n",
      "plt.errorbar(pX, pY, errorY, xerr=0, fmt='none', capsize=1)\n",
      "\n",
      "plt.xlim(0, 0.00000041)\n",
      "plt.ylim(0, 0.079)\n",
      "\n",
      "plt.xticks(np.arange(0.000001, 0.0000041, 0.000001))\n",
      "plt.yticks(np.arange(0.02, 0.081, 0.02))\n",
      "\n",
      "ax.yaxis.set_major_formatter(cFormatter)\n",
      "ax.xaxis.set_major_formatter(cFormatter2)\n",
      "\n",
      "fig.savefig(\"cu\")"
     ],
     "language": "python",
     "metadata": {},
     "outputs": [
      {
       "metadata": {},
       "output_type": "display_data",
       "png": "[encoded data removed]",
       "text": [
        "<matplotlib.figure.Figure at 0x10962f9d0>"
       ]
      }
     ],
     "prompt_number": 128
    },
    {
     "cell_type": "code",
     "collapsed": false,
     "input": [],
     "language": "python",
     "metadata": {},
     "outputs": []
    }
   ],
   "metadata": {}
  }
 ]
}