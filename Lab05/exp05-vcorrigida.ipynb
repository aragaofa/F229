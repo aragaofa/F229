{
 "metadata": {
  "name": "",
  "signature": "sha256:9a5650d5287097611195b2d666245faa8b19d0dd8f75e49c6742ce375e4f5f29"
 },
 "nbformat": 3,
 "nbformat_minor": 0,
 "worksheets": [
  {
   "cells": [
    {
     "cell_type": "code",
     "collapsed": false,
     "input": [
      "%matplotlib inline"
     ],
     "language": "python",
     "metadata": {},
     "outputs": [],
     "prompt_number": 1
    },
    {
     "cell_type": "code",
     "collapsed": false,
     "input": [
      "from pylab import *"
     ],
     "language": "python",
     "metadata": {},
     "outputs": [],
     "prompt_number": 2
    },
    {
     "cell_type": "code",
     "collapsed": false,
     "input": [
      "import matplotlib.ticker as tkr"
     ],
     "language": "python",
     "metadata": {},
     "outputs": [],
     "prompt_number": 3
    },
    {
     "cell_type": "code",
     "collapsed": false,
     "input": [
      "import matplotlib.pyplot as plt"
     ],
     "language": "python",
     "metadata": {},
     "outputs": [],
     "prompt_number": 4
    },
    {
     "cell_type": "code",
     "collapsed": false,
     "input": [
      "def func(x, pos): # changes format to dot to comma\n",
      "    s = str(x)\n",
      "    ind = 1\n",
      "    return s[:ind] + ',' + s[ind+1:] + '0'"
     ],
     "language": "python",
     "metadata": {},
     "outputs": [],
     "prompt_number": 5
    },
    {
     "cell_type": "code",
     "collapsed": false,
     "input": [
      "def funcX(x, pos): # gambiarra rrr\n",
      "    s = str(x)\n",
      "    if pos % 2 == 0:\n",
      "        elem = '5'\n",
      "    else:\n",
      "        elem = '0'\n",
      "    if s[0] == '5':\n",
      "        return '0' + \",\" + elem\n",
      "    return s[0] + \",\" + elem"
     ],
     "language": "python",
     "metadata": {},
     "outputs": [],
     "prompt_number": 67
    },
    {
     "cell_type": "code",
     "collapsed": false,
     "input": [
      "fig = plt.figure()\n",
      "ax = fig.gca()\n",
      "\n",
      "x = np.arange(0, 0.0001, 0.0000001)\n",
      "\n",
      "pX = [0.0000010, 0.0000016, 0.0000023, 0.0000031, 0.0000040]\n",
      "pY = [0.019131, 0.029515, 0.042210, 0.057556, 0.075538]\n",
      "\n",
      "errorX = [0, 0, 0, 0, 0]\n",
      "errorY = [0.004, 0.006, 0.009, 0.012, 0.016]\n",
      "\n",
      "cFormatter = tkr.FuncFormatter(func)\n",
      "cFormatter2 = tkr.FuncFormatter(funcX)\n",
      "\n",
      "line, = plt.plot(x, 18692.8819 * x + 0.00039130, label=r\"$y$ $=$ $1,9 \\cdot 10^{4}x + 3,9 \\cdot 10^{-4}$\", color=\"green\")\n",
      "\n",
      "plt.legend(loc=2) # upper left corner\n",
      "plt.xlabel('$10^{-6} \\cdot$ $r^2$ ($m^2$)', fontsize=14)\n",
      "plt.ylabel(r'$v$ $(\\frac{m}{s})$', fontsize=18)\n",
      "\n",
      "plt.plot(pX, pY, 'bo', markersize = 3)\n",
      "\n",
      "plt.errorbar(pX, pY, errorY, xerr=0, fmt='none', capsize=1)\n",
      "\n",
      "plt.xlim(0, 0.0000004)\n",
      "plt.ylim(0, 0.080)\n",
      "\n",
      "plt.xticks(np.arange(0.0000005, 0.0000049, 0.0000005))\n",
      "plt.yticks(np.arange(0.02, 0.08100, 0.02))\n",
      "\n",
      "ax.yaxis.set_major_formatter(cFormatter)\n",
      "ax.xaxis.set_major_formatter(cFormatter2)"
     ],
     "language": "python",
     "metadata": {},
     "outputs": [
      {
       "metadata": {},
       "output_type": "display_data",
       "png": "[encoded data removed]",
       "text": [
        "<matplotlib.figure.Figure at 0x1134bc6d0>"
       ]
      }
     ],
     "prompt_number": 68
    },
    {
     "cell_type": "code",
     "collapsed": false,
     "input": [],
     "language": "python",
     "metadata": {},
     "outputs": []
    }
   ],
   "metadata": {}
  }
 ]
}