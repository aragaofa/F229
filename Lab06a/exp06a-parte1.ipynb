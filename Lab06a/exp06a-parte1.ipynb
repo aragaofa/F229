{
 "metadata": {
  "name": "",
  "signature": "sha256:205767d1308a088d53bd32e9320a9479e0066f934f2d4f91f27ca8396714c527"
 },
 "nbformat": 3,
 "nbformat_minor": 0,
 "worksheets": [
  {
   "cells": [
    {
     "cell_type": "code",
     "collapsed": false,
     "input": [
      "%matplotlib inline"
     ],
     "language": "python",
     "metadata": {},
     "outputs": [],
     "prompt_number": 2
    },
    {
     "cell_type": "code",
     "collapsed": false,
     "input": [
      "from pylab import *"
     ],
     "language": "python",
     "metadata": {},
     "outputs": [],
     "prompt_number": 3
    },
    {
     "cell_type": "code",
     "collapsed": false,
     "input": [
      "import matplotlib.ticker as tkr"
     ],
     "language": "python",
     "metadata": {},
     "outputs": [],
     "prompt_number": 4
    },
    {
     "cell_type": "code",
     "collapsed": false,
     "input": [
      "import matplotlib.pyplot as plt"
     ],
     "language": "python",
     "metadata": {},
     "outputs": [],
     "prompt_number": 5
    },
    {
     "cell_type": "code",
     "collapsed": false,
     "input": [
      "def func(x, pos): # changes format to dot to comma\n",
      "    s = str(x)\n",
      "    ind = 4\n",
      "    if len(s) < 6:\n",
      "        return s[ind] + ',' + s[ind+1:] + '0'\n",
      "    return s[ind] + ',' + s[ind+1:]"
     ],
     "language": "python",
     "metadata": {},
     "outputs": [],
     "prompt_number": 67
    },
    {
     "cell_type": "code",
     "collapsed": false,
     "input": [
      "def funcX(x, pos): # gambiarra rrr\n",
      "    s = str(x)\n",
      "    if pos % 2 == 0:\n",
      "        elem = '5'\n",
      "    else:\n",
      "        elem = '0'\n",
      "    if s[0] == '5':\n",
      "        return '0' + \",\" + elem\n",
      "    return s[0] + \",\" + elem"
     ],
     "language": "python",
     "metadata": {},
     "outputs": [],
     "prompt_number": 68
    },
    {
     "cell_type": "code",
     "collapsed": false,
     "input": [
      "fig = plt.figure()\n",
      "ax = fig.gca()\n",
      "\n",
      "x = np.arange(0, 100, 0.01)\n",
      "\n",
      "pY = [0.0048, 0.0045, 0.0040, 0.0038, 0.0035, 0.0032, 0.0030]\n",
      "pX = [84.8, 79.8, 74.8, 69.8, 64.8, 59.8, 54.8]\n",
      "\n",
      "errorX = [0, 0, 0, 0, 0]\n",
      "errorY = [0.004, 0.006, 0.009, 0.012, 0.016]\n",
      "\n",
      "cFormatter = tkr.FuncFormatter(func)\n",
      "cFormatter2 = tkr.FuncFormatter(funcX)\n",
      "\n",
      "line, = plt.plot(x, 0.00006150 * x + -0.00045984, label=r\"$y$ $=$ $6,15 \\cdot 10^{5}x$\", color=\"green\")\n",
      "\n",
      "plt.legend(loc=2) # upper left corner\n",
      "plt.xlabel('T ($^\\circ C$)', fontsize=14)\n",
      "plt.ylabel(r'$10^{-3} \\cdot$ V $(V)$', fontsize=14)\n",
      "\n",
      "plt.plot(pX, pY, 'bo', markersize = 3)\n",
      "\n",
      "plt.errorbar(pX, pY, yerr=0.00001, xerr=0, fmt='none', capsize=1)\n",
      "\n",
      "plt.xlim(50, 90)\n",
      "plt.ylim(0.002, 0.005)\n",
      "\n",
      "plt.xticks(np.arange(50, 91, 10))\n",
      "plt.yticks(np.arange(0.002, 0.0051, 0.0005))\n",
      "\n",
      "ax.yaxis.set_major_formatter(cFormatter)"
     ],
     "language": "python",
     "metadata": {},
     "outputs": [
      {
       "metadata": {},
       "output_type": "display_data",
       "png": "[encoded data removed]",
       "text": [
        "<matplotlib.figure.Figure at 0x10d2a9090>"
       ]
      }
     ],
     "prompt_number": 78
    },
    {
     "cell_type": "code",
     "collapsed": false,
     "input": [],
     "language": "python",
     "metadata": {},
     "outputs": []
    }
   ],
   "metadata": {}
  }
 ]
}