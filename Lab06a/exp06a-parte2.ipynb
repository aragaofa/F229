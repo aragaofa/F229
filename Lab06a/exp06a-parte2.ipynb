{
 "metadata": {
  "name": "",
  "signature": "sha256:e501e2fb64bc4d973b3d494d26c475e559fbefe20e80ed3b8ede229f8492c580"
 },
 "nbformat": 3,
 "nbformat_minor": 0,
 "worksheets": [
  {
   "cells": [
    {
     "cell_type": "code",
     "collapsed": false,
     "input": [
      "%matplotlib inline"
     ],
     "language": "python",
     "metadata": {},
     "outputs": [],
     "prompt_number": 2
    },
    {
     "cell_type": "code",
     "collapsed": false,
     "input": [
      "from pylab import *"
     ],
     "language": "python",
     "metadata": {},
     "outputs": [],
     "prompt_number": 3
    },
    {
     "cell_type": "code",
     "collapsed": false,
     "input": [
      "import matplotlib.ticker as tkr"
     ],
     "language": "python",
     "metadata": {},
     "outputs": [],
     "prompt_number": 4
    },
    {
     "cell_type": "code",
     "collapsed": false,
     "input": [
      "import matplotlib.pyplot as plt"
     ],
     "language": "python",
     "metadata": {},
     "outputs": [],
     "prompt_number": 5
    },
    {
     "cell_type": "code",
     "collapsed": false,
     "input": [
      "def func(x, pos): # changes format to dot to comma\n",
      "    s = str(x)\n",
      "    ind = 0\n",
      "    return s[ind] + ',' + s[ind+2:]"
     ],
     "language": "python",
     "metadata": {},
     "outputs": [],
     "prompt_number": 38
    },
    {
     "cell_type": "code",
     "collapsed": false,
     "input": [
      "def funcX(x, pos): # gambiarra rrr\n",
      "    s = str(x)\n",
      "    if pos % 2 == 0:\n",
      "        elem = '5'\n",
      "    else:\n",
      "        elem = '0'\n",
      "    if s[0] == '5':\n",
      "        return '0' + \",\" + elem\n",
      "    return s[0] + \",\" + elem"
     ],
     "language": "python",
     "metadata": {},
     "outputs": [],
     "prompt_number": 39
    },
    {
     "cell_type": "code",
     "collapsed": false,
     "input": [
      "fig = plt.figure()\n",
      "ax = fig.gca()\n",
      "\n",
      "x = np.arange(0, 50, 0.01)\n",
      "\n",
      "pY = [4.15, 4.11, 4.07, 4.03, 3.98, 3.88, 3.77]\n",
      "pX = [0.00, 1.50, 3.58, 6.20, 9.35, 16.48, 26.50]\n",
      "\n",
      "errorX = [0, 0, 0, 0, 0]\n",
      "errorY = [0.004, 0.006, 0.009, 0.012, 0.016]\n",
      "\n",
      "cFormatter = tkr.FuncFormatter(func)\n",
      "cFormatter2 = tkr.FuncFormatter(funcX)\n",
      "\n",
      "line, = plt.plot(x, -0.0139824 * x + 4.1257, label=r\"$y$ $=$ $-1,39824 \\cdot 10^{-2}x + 4,1257$\", color=\"green\")\n",
      "\n",
      "plt.legend(loc=2) # upper left corner\n",
      "plt.xlabel('t $(s)$', fontsize=14)\n",
      "plt.ylabel(r'T $(ln(^\\circ C))$', fontsize=14)\n",
      "\n",
      "plt.plot(pX, pY, 'bo', markersize = 3)\n",
      "\n",
      "plt.errorbar(pX, pY, yerr=0.02, xerr=0, fmt='none', capsize=1)\n",
      "\n",
      "plt.xlim(0.2, 30)\n",
      "plt.ylim(3.70, 4.2)\n",
      "\n",
      "plt.xticks(np.arange(0, 31, 5))\n",
      "plt.yticks(np.arange(3.70, 4.21, 0.1))\n",
      "\n",
      "ax.yaxis.set_major_formatter(cFormatter)"
     ],
     "language": "python",
     "metadata": {},
     "outputs": [
      {
       "metadata": {},
       "output_type": "display_data",
       "png": "[encoded data removed]",
       "text": [
        "<matplotlib.figure.Figure at 0x1110c7dd0>"
       ]
      }
     ],
     "prompt_number": 40
    },
    {
     "cell_type": "code",
     "collapsed": false,
     "input": [],
     "language": "python",
     "metadata": {},
     "outputs": []
    }
   ],
   "metadata": {}
  }
 ]
}